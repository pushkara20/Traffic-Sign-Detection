{
 "cells": [
  {
   "cell_type": "code",
   "execution_count": 1,
   "metadata": {},
   "outputs": [
    {
     "name": "stderr",
     "output_type": "stream",
     "text": [
      "Using TensorFlow backend.\n"
     ]
    }
   ],
   "source": [
    "import numpy as np \n",
    "import pandas as pd \n",
    "import matplotlib.pyplot as plt\n",
    "import cv2\n",
    "import tensorflow as tf\n",
    "from PIL import Image\n",
    "import os\n",
    "os.chdir('C:\\\\Users\\\\Priyanka\\\\Desktop\\\\5th sem project and seminar\\\\dataset\\\\traffic')\n",
    "from sklearn.model_selection import train_test_split\n",
    "from keras.utils import to_categorical\n",
    "from keras.models import Sequential, load_model\n",
    "from keras.layers import Conv2D, MaxPool2D, Dense, Flatten, Dropout"
   ]
  },
  {
   "cell_type": "code",
   "execution_count": 2,
   "metadata": {},
   "outputs": [
    {
     "data": {
      "text/plain": [
       "'C:\\\\Users\\\\Priyanka\\\\Desktop\\\\5th sem project and seminar\\\\dataset\\\\traffic'"
      ]
     },
     "execution_count": 2,
     "metadata": {},
     "output_type": "execute_result"
    }
   ],
   "source": [
    "data = []\n",
    "labels = []\n",
    "classes = 43\n",
    "cur_path = os.getcwd()\n",
    "cur_path"
   ]
  },
  {
   "cell_type": "code",
   "execution_count": 3,
   "metadata": {},
   "outputs": [],
   "source": [
    "for i in range(classes):\n",
    "    path = os.path.join(cur_path,'train',str(i))\n",
    "    images = os.listdir(path)\n",
    "    for a in images:\n",
    "        try:\n",
    "            image = Image.open(path + '\\\\'+ a)\n",
    "            image = image.resize((30,30))\n",
    "            image = np.array(image)\n",
    "            data.append(image)\n",
    "            labels.append(i)\n",
    "        except Exception as e:\n",
    "            print(e)"
   ]
  },
  {
   "cell_type": "code",
   "execution_count": 4,
   "metadata": {},
   "outputs": [],
   "source": [
    "data = np.array(data)\n",
    "labels = np.array(labels)"
   ]
  },
  {
   "cell_type": "code",
   "execution_count": 6,
   "metadata": {},
   "outputs": [],
   "source": [
    "os.mkdir('training')"
   ]
  },
  {
   "cell_type": "code",
   "execution_count": 7,
   "metadata": {},
   "outputs": [],
   "source": [
    "np.save('./training/data',data)\n",
    "np.save('./training/target',labels)"
   ]
  },
  {
   "cell_type": "code",
   "execution_count": 8,
   "metadata": {},
   "outputs": [
    {
     "name": "stdout",
     "output_type": "stream",
     "text": [
      "(39209, 30, 30, 3) (39209,)\n"
     ]
    }
   ],
   "source": [
    "print(data.shape, labels.shape)"
   ]
  },
  {
   "cell_type": "code",
   "execution_count": 9,
   "metadata": {},
   "outputs": [
    {
     "name": "stdout",
     "output_type": "stream",
     "text": [
      "(31367, 30, 30, 3) (7842, 30, 30, 3) (31367,) (7842,)\n"
     ]
    }
   ],
   "source": [
    "X_train, X_test, y_train, y_test = train_test_split(data, labels, test_size=0.2, random_state=0)\n",
    "print(X_train.shape, X_test.shape, y_train.shape, y_test.shape)"
   ]
  },
  {
   "cell_type": "code",
   "execution_count": 10,
   "metadata": {},
   "outputs": [],
   "source": [
    "y_train = to_categorical(y_train, 43)\n",
    "y_test = to_categorical(y_test, 43)"
   ]
  },
  {
   "cell_type": "code",
   "execution_count": 11,
   "metadata": {},
   "outputs": [],
   "source": [
    "model = Sequential()\n",
    "model.add(Conv2D(filters=32, kernel_size=(5,5), activation='relu', input_shape=X_train.shape[1:]))\n",
    "model.add(Conv2D(filters=32, kernel_size=(5,5), activation='relu'))\n",
    "model.add(MaxPool2D(pool_size=(2, 2)))\n",
    "model.add(Dropout(rate=0.25))\n",
    "model.add(Conv2D(filters=64, kernel_size=(3, 3), activation='relu'))\n",
    "model.add(Conv2D(filters=64, kernel_size=(3, 3), activation='relu'))\n",
    "model.add(MaxPool2D(pool_size=(2, 2)))\n",
    "model.add(Dropout(rate=0.25))\n",
    "model.add(Flatten())\n",
    "model.add(Dense(256, activation='relu'))\n",
    "model.add(Dropout(rate=0.5))\n",
    "model.add(Dense(43, activation='softmax'))"
   ]
  },
  {
   "cell_type": "code",
   "execution_count": 12,
   "metadata": {},
   "outputs": [],
   "source": [
    "model.compile(loss='categorical_crossentropy', optimizer='adam', metrics=['accuracy'])"
   ]
  },
  {
   "cell_type": "code",
   "execution_count": 13,
   "metadata": {},
   "outputs": [
    {
     "name": "stdout",
     "output_type": "stream",
     "text": [
      "Train on 31367 samples, validate on 7842 samples\n",
      "Epoch 1/20\n",
      "31367/31367 [==============================] - 67s 2ms/step - loss: 2.0871 - accuracy: 0.4503 - val_loss: 0.8298 - val_accuracy: 0.8021\n",
      "Epoch 2/20\n",
      "31367/31367 [==============================] - 69s 2ms/step - loss: 0.9985 - accuracy: 0.7052 - val_loss: 0.4415 - val_accuracy: 0.8679\n",
      "Epoch 3/20\n",
      "31367/31367 [==============================] - 68s 2ms/step - loss: 0.7677 - accuracy: 0.7702 - val_loss: 0.3429 - val_accuracy: 0.8884\n",
      "Epoch 4/20\n",
      "31367/31367 [==============================] - 70s 2ms/step - loss: 0.6594 - accuracy: 0.7991 - val_loss: 0.2480 - val_accuracy: 0.9278\n",
      "Epoch 5/20\n",
      "31367/31367 [==============================] - 70s 2ms/step - loss: 0.5901 - accuracy: 0.8210 - val_loss: 0.2350 - val_accuracy: 0.9274\n",
      "Epoch 6/20\n",
      "31367/31367 [==============================] - 70s 2ms/step - loss: 0.5460 - accuracy: 0.8359 - val_loss: 0.1970 - val_accuracy: 0.9426\n",
      "Epoch 7/20\n",
      "31367/31367 [==============================] - 72s 2ms/step - loss: 0.5114 - accuracy: 0.8438 - val_loss: 0.1955 - val_accuracy: 0.9382\n",
      "Epoch 8/20\n",
      "31367/31367 [==============================] - 72s 2ms/step - loss: 0.4796 - accuracy: 0.8522 - val_loss: 0.1850 - val_accuracy: 0.9457\n",
      "Epoch 9/20\n",
      "31367/31367 [==============================] - 72s 2ms/step - loss: 0.4624 - accuracy: 0.8601 - val_loss: 0.1628 - val_accuracy: 0.9495\n",
      "Epoch 10/20\n",
      "31367/31367 [==============================] - 73s 2ms/step - loss: 0.4451 - accuracy: 0.8674 - val_loss: 0.1740 - val_accuracy: 0.9494\n",
      "Epoch 11/20\n",
      "31367/31367 [==============================] - 73s 2ms/step - loss: 0.4358 - accuracy: 0.8682 - val_loss: 0.1707 - val_accuracy: 0.9447\n",
      "Epoch 12/20\n",
      "31367/31367 [==============================] - 73s 2ms/step - loss: 0.4577 - accuracy: 0.8625 - val_loss: 0.1544 - val_accuracy: 0.9510\n",
      "Epoch 13/20\n",
      "31367/31367 [==============================] - 73s 2ms/step - loss: 0.4210 - accuracy: 0.8707 - val_loss: 0.1699 - val_accuracy: 0.9452\n",
      "Epoch 14/20\n",
      "31367/31367 [==============================] - 74s 2ms/step - loss: 0.4143 - accuracy: 0.8755 - val_loss: 0.1380 - val_accuracy: 0.9579\n",
      "Epoch 15/20\n",
      "31367/31367 [==============================] - 73s 2ms/step - loss: 0.3964 - accuracy: 0.8810 - val_loss: 0.1238 - val_accuracy: 0.9630\n",
      "Epoch 16/20\n",
      "31367/31367 [==============================] - 71s 2ms/step - loss: 0.3954 - accuracy: 0.8813 - val_loss: 0.1587 - val_accuracy: 0.9501\n",
      "Epoch 17/20\n",
      "31367/31367 [==============================] - 70s 2ms/step - loss: 0.4012 - accuracy: 0.8808 - val_loss: 0.1575 - val_accuracy: 0.9515\n",
      "Epoch 18/20\n",
      "31367/31367 [==============================] - 70s 2ms/step - loss: 0.3770 - accuracy: 0.8856 - val_loss: 0.1442 - val_accuracy: 0.9536\n",
      "Epoch 19/20\n",
      "31367/31367 [==============================] - 70s 2ms/step - loss: 0.3917 - accuracy: 0.8848 - val_loss: 0.1421 - val_accuracy: 0.9556\n",
      "Epoch 20/20\n",
      "31367/31367 [==============================] - 70s 2ms/step - loss: 0.3550 - accuracy: 0.8941 - val_loss: 0.1479 - val_accuracy: 0.9513\n"
     ]
    }
   ],
   "source": [
    "epochs = 20\n",
    "history = model.fit(X_train, y_train, batch_size=32, epochs=epochs, validation_data=(X_test, y_test))"
   ]
  },
  {
   "cell_type": "code",
   "execution_count": 14,
   "metadata": {
    "scrolled": true
   },
   "outputs": [
    {
     "data": {
      "image/png": "[encoded data removed]",
      "text/plain": [
       "<Figure size 432x288 with 1 Axes>"
      ]
     },
     "metadata": {
      "needs_background": "light"
     },
     "output_type": "display_data"
    },
    {
     "data": {
      "image/png": "[encoded data removed]",
      "text/plain": [
       "<Figure size 432x288 with 1 Axes>"
      ]
     },
     "metadata": {
      "needs_background": "light"
     },
     "output_type": "display_data"
    }
   ],
   "source": [
    "plt.figure(0)\n",
    "plt.plot(history.history['accuracy'], label='training accuracy')\n",
    "plt.plot(history.history['val_accuracy'], label='val accuracy')\n",
    "plt.title('Accuracy')\n",
    "plt.xlabel('epochs')\n",
    "plt.ylabel('accuracy')\n",
    "plt.legend()\n",
    "plt.show()\n",
    "\n",
    "plt.figure(1)\n",
    "plt.plot(history.history['loss'], label='training loss')\n",
    "plt.plot(history.history['val_loss'], label='val loss')\n",
    "plt.title('Loss')\n",
    "plt.xlabel('epochs')\n",
    "plt.ylabel('loss')\n",
    "plt.legend()\n",
    "plt.show()"
   ]
  },
  {
   "cell_type": "code",
   "execution_count": 15,
   "metadata": {},
   "outputs": [
    {
     "name": "stdout",
     "output_type": "stream",
     "text": [
      "0.9102929532858274\n"
     ]
    }
   ],
   "source": [
    "from sklearn.metrics import accuracy_score\n",
    "\n",
    "y_test = pd.read_csv('Test.csv')\n",
    "\n",
    "labels = y_test[\"ClassId\"].values\n",
    "imgs = y_test[\"Path\"].values\n",
    "\n",
    "data=[]\n",
    "\n",
    "for img in imgs:\n",
    "    image = Image.open(img)\n",
    "    image = image.resize((30,30))\n",
    "    data.append(np.array(image))\n",
    "\n",
    "X_test=np.array(data)\n",
    "\n",
    "pred = model.predict_classes(X_test)\n",
    "\n",
    "\n",
    "from sklearn.metrics import accuracy_score\n",
    "print(accuracy_score(labels, pred))\n",
    "\n"
   ]
  },
  {
   "cell_type": "code",
   "execution_count": 16,
   "metadata": {},
   "outputs": [],
   "source": [
    "model.save(\"./training/TSR.h5\")"
   ]
  },
  {
   "cell_type": "code",
   "execution_count": 17,
   "metadata": {},
   "outputs": [],
   "source": [
    "\n",
    "import os\n",
    "os.chdir(r'C:\\\\Users\\\\Priyanka\\\\Desktop\\\\5th sem project and seminar\\\\dataset\\\\traffic')\n",
    "from keras.models import load_model\n",
    "model = load_model('./training/TSR.h5')"
   ]
  },
  {
   "cell_type": "code",
   "execution_count": 18,
   "metadata": {},
   "outputs": [],
   "source": [
    "classes = { 0:'Speed limit (20km/h)',\n",
    "            1:'Speed limit (30km/h)', \n",
    "            2:'Speed limit (50km/h)', \n",
    "            3:'Speed limit (60km/h)', \n",
    "            4:'Speed limit (70km/h)', \n",
    "            5:'Speed limit (80km/h)', \n",
    "            6:'End of speed limit (80km/h)', \n",
    "            7:'Speed limit (100km/h)', \n",
    "            8:'Speed limit (120km/h)', \n",
    "            9:'No passing', \n",
    "            10:'No passing veh over 3.5 tons', \n",
    "            11:'Right-of-way at intersection', \n",
    "            12:'Priority road', \n",
    "            13:'Yield', \n",
    "            14:'Stop', \n",
    "            15:'No vehicles', \n",
    "            16:'Veh > 3.5 tons prohibited', \n",
    "            17:'No entry', \n",
    "            18:'General caution', \n",
    "            19:'Dangerous curve left', \n",
    "            20:'Dangerous curve right', \n",
    "            21:'Double curve', \n",
    "            22:'Bumpy road', \n",
    "            23:'Slippery road', \n",
    "            24:'Road narrows on the right', \n",
    "            25:'Road work', \n",
    "            26:'Traffic signals', \n",
    "            27:'Pedestrians', \n",
    "            28:'Children crossing', \n",
    "            29:'Bicycles crossing', \n",
    "            30:'Beware of ice/snow',\n",
    "            31:'Wild animals crossing', \n",
    "            32:'End speed + passing limits', \n",
    "            33:'Turn right ahead', \n",
    "            34:'Turn left ahead', \n",
    "            35:'Ahead only', \n",
    "            36:'Go straight or right', \n",
    "            37:'Go straight or left', \n",
    "            38:'Keep right', \n",
    "            39:'Keep left', \n",
    "            40:'Roundabout mandatory', \n",
    "            41:'End of no passing', \n",
    "            42:'End no passing veh > 3.5 tons' }"
   ]
  },
  {
   "cell_type": "code",
   "execution_count": 19,
   "metadata": {},
   "outputs": [],
   "source": [
    "from PIL import Image\n",
    "import numpy as np\n",
    "import matplotlib.pyplot as plt\n",
    "def test_on_img(img):\n",
    "    data=[]\n",
    "    image = Image.open(img)\n",
    "    image = image.resize((30,30))\n",
    "    data.append(np.array(image))\n",
    "    X_test=np.array(data)\n",
    "    Y_pred = model.predict_classes(X_test)\n",
    "    return image,Y_pred"
   ]
  },
  {
   "cell_type": "code",
   "execution_count": 20,
   "metadata": {},
   "outputs": [
    {
     "name": "stdout",
     "output_type": "stream",
     "text": [
      "Predicted traffic sign is:  Speed limit (50km/h)\n"
     ]
    },
    {
     "data": {
      "image/png": "[encoded data removed]",
      "text/plain": [
       "<Figure size 432x288 with 1 Axes>"
      ]
     },
     "metadata": {
      "needs_background": "light"
     },
     "output_type": "display_data"
    }
   ],
   "source": [
    "plot,prediction = test_on_img(r'C:\\\\Users\\\\Priyanka\\\\Desktop\\\\5th sem project and seminar\\\\dataset\\\\traffic\\\\Test\\\\00484.png')\n",
    "s = [str(i) for i in prediction] \n",
    "a = int(\"\".join(s)) \n",
    "print(\"Predicted traffic sign is: \", classes[a])\n",
    "plt.imshow(plot)\n",
    "plt.show()"
   ]
  },
  {
   "cell_type": "code",
   "execution_count": null,
   "metadata": {},
   "outputs": [
    {
     "name": "stdout",
     "output_type": "stream",
     "text": [
      "Speed limit (30km/h)\n",
      "Turn right ahead\n",
      "General caution\n"
     ]
    }
   ],
   "source": [
    "import tkinter as tk\n",
    "from tkinter import filedialog\n",
    "from tkinter import *\n",
    "from PIL import ImageTk, Image\n",
    "\n",
    "import numpy\n",
    "from keras.models import load_model\n",
    "model = load_model('traffic_classifier.h5')\n",
    "\n",
    "\n",
    "classes = { 1:'Speed limit (20km/h)',\n",
    "            2:'Speed limit (30km/h)',\n",
    "            3:'Speed limit (50km/h)',\n",
    "            4:'Speed limit (60km/h)',\n",
    "            5:'Speed limit (70km/h)',\n",
    "            6:'Speed limit (80km/h)',\n",
    "            7:'End of speed limit (80km/h)',\n",
    "            8:'Speed limit (100km/h)',\n",
    "            9:'Speed limit (120km/h)',\n",
    "            10:'No passing',\n",
    "            11:'No passing veh over 3.5 tons',\n",
    "            12:'Right-of-way at intersection',\n",
    "            13:'Priority road',\n",
    "            14:'Yield',\n",
    "            15:'Stop',\n",
    "            16:'No vehicles',\n",
    "            17:'Veh > 3.5 tons prohibited',\n",
    "            18:'No entry',\n",
    "            19:'General caution',\n",
    "            20:'Dangerous curve left',\n",
    "            21:'Dangerous curve right',\n",
    "            22:'Double curve',\n",
    "            23:'Bumpy road',\n",
    "            24:'Slippery road',\n",
    "            25:'Road narrows on the right',\n",
    "            26:'Road work',\n",
    "            27:'Traffic signals',\n",
    "            28:'Pedestrians',\n",
    "            29:'Children crossing',\n",
    "            30:'Bicycles crossing',\n",
    "            31:'Beware of ice/snow',\n",
    "            32:'Wild animals crossing',\n",
    "            33:'End speed + passing limits',\n",
    "            34:'Turn right ahead',\n",
    "            35:'Turn left ahead',\n",
    "            36:'Ahead only',\n",
    "            37:'Go straight or right',\n",
    "            38:'Go straight or left',\n",
    "            39:'Keep right',\n",
    "            40:'Keep left',\n",
    "            41:'Roundabout mandatory',\n",
    "            42:'End of no passing',\n",
    "            43:'End no passing veh > 3.5 tons' }\n",
    "\n",
    "#initialise GUI\n",
    "top=tk.Tk()\n",
    "top.geometry('800x600')\n",
    "top.title('Traffic sign classification')\n",
    "top.configure(background='#CDCDCD')\n",
    "\n",
    "label=Label(top,background='#CDCDCD', font=('arial',15,'bold'))\n",
    "sign_image = Label(top)\n",
    "\n",
    "def classify(file_path):\n",
    "    global label_packed\n",
    "    image = Image.open(file_path)\n",
    "    image = image.resize((30,30))\n",
    "    image = numpy.expand_dims(image, axis=0)\n",
    "    image = numpy.array(image)\n",
    "    pred = model.predict_classes([image])[0]\n",
    "    sign = classes[pred+1]\n",
    "    print(sign)\n",
    "    label.configure(foreground='#011638', text=sign)\n",
    "\n",
    "def show_classify_button(file_path):\n",
    "    classify_b=Button(top,text=\"Classify Image\",command=lambda: classify(file_path),padx=10,pady=5)\n",
    "    classify_b.configure(background='#364156', foreground='white',font=('arial',10,'bold'))\n",
    "    classify_b.place(relx=0.79,rely=0.46)\n",
    "\n",
    "def upload_image():\n",
    "    try:\n",
    "        file_path=filedialog.askopenfilename()\n",
    "        uploaded=Image.open(file_path)\n",
    "        uploaded.thumbnail(((top.winfo_width()/2.25),(top.winfo_height()/2.25)))\n",
    "        im=ImageTk.PhotoImage(uploaded)\n",
    "\n",
    "        sign_image.configure(image=im)\n",
    "        sign_image.image=im\n",
    "        label.configure(text='')\n",
    "        show_classify_button(file_path)\n",
    "    except:\n",
    "        pass\n",
    "\n",
    "upload=Button(top,text=\"Upload an image\",command=upload_image,padx=10,pady=5)\n",
    "upload.configure(background='#364156', foreground='white',font=('arial',10,'bold'))\n",
    "\n",
    "upload.pack(side=BOTTOM,pady=50)\n",
    "sign_image.pack(side=BOTTOM,expand=True)\n",
    "label.pack(side=BOTTOM,expand=True)\n",
    "heading = Label(top, text=\"Know Your Traffic Sign\",pady=20, font=('arial',20,'bold'))\n",
    "heading.configure(background='#CDCDCD',foreground='#364156')\n",
    "heading.pack()\n",
    "top.mainloop()\n"
   ]
  },
  {
   "cell_type": "code",
   "execution_count": null,
   "metadata": {},
   "outputs": [],
   "source": []
  },
  {
   "cell_type": "code",
   "execution_count": null,
   "metadata": {},
   "outputs": [],
   "source": []
  }
 ],
 "metadata": {
  "kernelspec": {
   "display_name": "Python 3",
   "language": "python",
   "name": "python3"
  },
  "language_info": {
   "codemirror_mode": {
    "name": "ipython",
    "version": 3
   },
   "file_extension": ".py",
   "mimetype": "text/x-python",
   "name": "python",
   "nbconvert_exporter": "python",
   "pygments_lexer": "ipython3",
   "version": "3.7.7"
  }
 },
 "nbformat": 4,
 "nbformat_minor": 4
}
